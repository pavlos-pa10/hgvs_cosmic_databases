{
 "cells": [
  {
   "attachments": {},
   "cell_type": "markdown",
   "id": "handed-sacramento",
   "metadata": {},
   "source": [
    "# Part 1 HGVS Non Compliance Issue  \n"
   ]
  },
  {
   "cell_type": "markdown",
   "id": "offensive-ensemble",
   "metadata": {},
   "source": [
    "### Pavlos Antoniou\n",
    "### 31/07/2021\n",
    "### pa10@sanger.ac.uk"
   ]
  },
  {
   "attachments": {},
   "cell_type": "markdown",
   "id": "convinced-reform",
   "metadata": {},
   "source": [
    "## Case 1 : Fusion annotation"
   ]
  },
  {
   "cell_type": "code",
   "execution_count": 1,
   "id": "persistent-extent",
   "metadata": {},
   "outputs": [],
   "source": [
    "import re\n",
    "import csv\n",
    "\n",
    "#NM_152263.2:r.-115_775::NM_002609.3:r.1580_*1924\n",
    "\n",
    "class Fusion:\n",
    "\n",
    "    def __init__(self,transcript1,location1,transcript2,location2):\n",
    "        self.transcript1=transcript1\n",
    "        self.location1=location1\n",
    "        self.transcript2=transcript2\n",
    "        self.location2=location2\n",
    "        \n",
    "    def __str__(self):\n",
    "        return f\"{self.transcript1}:r.{self.location1[0]}_{self.location1[1]}::{self.transcript2}:r.{self.location2[0]}_{self.location2[1]}\"\n",
    "\n",
    "\n",
    "def extract_genomic_coordinates(VEP_annotation_file):\n",
    "    with open(VEP_annotation_file, 'r') as csvfile:\n",
    "        reader=csv.reader(csvfile, delimiter=\"\\t\")\n",
    "\n",
    "        headers = next(reader)[:1]\n",
    "        #print(headers)\n",
    "        for row in reader:\n",
    "            if row[0].startswith(\"#\"):\n",
    "                continue\n",
    "            variant=row[2]\n",
    "            \n",
    "            chromosome=row[0]\n",
    "            start=row[1]\n",
    "            ref=row[3]\n",
    "            alt=row[4]\n",
    "            stop=len(alt)+int(start)-1\n",
    "        \n",
    "            print(\"Variant\\tChromosome\\tStart\\tStop\\tREF\\tALT\")\n",
    "            print(f\"{variant}\\t{chromosome}\\t{start}\\t{stop}\\t{ref}\\t{alt}\\n\")\n",
    "\n",
    "        \n",
    "\n",
    "def fusion_to_hgvs(annotation):\n",
    "    transcript_pattern=re.compile('ENST(\\d+)\\.(\\d+)\\(')\n",
    "    positions_pattern=re.compile('\\:r.(\\d+)_(\\d+)(_*)')\n",
    "    transcripts_list=[]\n",
    "    positions_list=[]\n",
    "\n",
    "    transcripts=transcript_pattern.findall(annotation)\n",
    "    for transcript in transcripts:\n",
    "        transcript_name=f\"ENST{transcript[0]}.{transcript[1]}\"\n",
    "        transcripts_list.append(transcript_name)\n",
    "    \n",
    "    positions=positions_pattern.findall(annotation)\n",
    "    for pos in positions:\n",
    "        #print(pos)\n",
    "        (pos1,pos2)=pos[0],pos[1]\n",
    "        positions_list.append((pos1,pos2))\n",
    "\n",
    "    f=Fusion(transcripts_list[0],positions_list[0],transcripts_list[1],positions_list[1])\n",
    "    print(f)\n",
    "\n"
   ]
  },
  {
   "cell_type": "code",
   "execution_count": 2,
   "id": "incident-bookmark",
   "metadata": {},
   "outputs": [
    {
     "name": "stdout",
     "output_type": "stream",
     "text": [
      "Case 1\n",
      "Cosmic fusion syntax: ENST00000318522.5(EML4):r.1_1751_ENST00000389048.3(ALK):r.4080_6220:\n",
      "HGVS annotation: ENST00000318522.5:r.1_1751::ENST00000389048.3:r.4080_6220\n"
     ]
    }
   ],
   "source": [
    "print(\"Case 1\")\n",
    "non_hgvs_annotation=\"ENST00000318522.5(EML4):r.1_1751_ENST00000389048.3(ALK):r.4080_6220\"\n",
    "print(f\"Cosmic fusion syntax: {non_hgvs_annotation}:\")\n",
    "print(\"HGVS annotation: \", end=\"\")\n",
    "fusion_to_hgvs(non_hgvs_annotation)\n"
   ]
  },
  {
   "cell_type": "markdown",
   "id": "friendly-success",
   "metadata": {},
   "source": [
    "## Case 2"
   ]
  },
  {
   "cell_type": "markdown",
   "id": "tender-kazakhstan",
   "metadata": {},
   "source": [
    "## Genomic coordinates of mutation"
   ]
  },
  {
   "cell_type": "code",
   "execution_count": 3,
   "id": "egyptian-accordance",
   "metadata": {},
   "outputs": [
    {
     "name": "stdout",
     "output_type": "stream",
     "text": [
      "Run VEP at https://www.ensembl.org/Multi/Tools/VEP?db=core \n",
      "with HGVS accession: ENST00000540549.1:c.355_356insATGG\n",
      "Genomic coordinates (build 38):\n",
      "Variant\tChromosome\tStart\tStop\tREF\tALT\n",
      "ENST00000540549.1:c.355_356insATGG\t4\t105234297\t105234301\tA\tAATGG\n",
      "\n"
     ]
    }
   ],
   "source": [
    "print(\"Run VEP at https://www.ensembl.org/Multi/Tools/VEP?db=core \")\n",
    "print(\"with HGVS accession: ENST00000540549.1:c.355_356insATGG\")\n",
    "print(\"Genomic coordinates (build 38):\")\n",
    "VEP_annotation=\"../vep_results/zs5zkjDyQn8IM2ZB.vcf\"\n",
    "extract_genomic_coordinates(VEP_annotation_file=VEP_annotation)"
   ]
  },
  {
   "cell_type": "markdown",
   "id": "pointed-romania",
   "metadata": {},
   "source": [
    "### Run VEP command line to retrieve genomic coordinates for cds mutations"
   ]
  },
  {
   "cell_type": "markdown",
   "id": "pacific-focus",
   "metadata": {},
   "source": [
    "We can run VEP using the docker container **ensembl-vep** \\\n",
    "We need to have the mutation in valid HGVS format. \n",
    "\n",
    "\n"
   ]
  },
  {
   "cell_type": "code",
   "execution_count": 4,
   "id": "funded-worst",
   "metadata": {},
   "outputs": [
    {
     "name": "stdout",
     "output_type": "stream",
     "text": [
      "ENST00000540549.1:c.355_356insATGG\n",
      "\n"
     ]
    }
   ],
   "source": [
    "#INPUT for VEP\n",
    "with open('../vep_results/input.txt','r') as f:\n",
    "    for line in f:\n",
    "        print(line)\n"
   ]
  },
  {
   "cell_type": "markdown",
   "id": "settled-williams",
   "metadata": {},
   "source": [
    "We can then run VEP with the above input file. \\\n",
    "**input: input.txt \\\n",
    "output: insertion.vcf** \\\n",
    "The command to run VEP for an HGVS mutation: \\\n",
    "**docker run -t -i -v $HOME/vep_data:/opt/vep/.vep ensemblorg/ensembl-vep\n",
    "./vep --cache  --force_overwrite --vcf  --input_file /opt/vep/.vep/input.txt  --output_file /opt/vep/.vep/insertion.vcf** \\\n",
    "\n",
    "\n",
    "\\\n",
    "We can then extract the genomic coordinates from the VCF file. Based on the type of mutation(SNP,indel) we can calculate the end position of the mutation. (i.e if insertion we can add the length of the inserted sequence to the start position of the mutation) \n",
    "\n"
   ]
  },
  {
   "cell_type": "code",
   "execution_count": 5,
   "id": "understanding-flour",
   "metadata": {},
   "outputs": [
    {
     "name": "stdout",
     "output_type": "stream",
     "text": [
      "Run VEP at https://www.ensembl.org/Multi/Tools/VEP?db=core \n",
      "with HGVS accession: ENST00000540549.1:c.355_356insATGG\n",
      "Genomic coordinates (build 38):\n",
      "Variant\tChromosome\tStart\tStop\tREF\tALT\n",
      "ENST00000540549.1:c.355_356insATGG\t4\t105234297\t105234301\tA\tAATGG\n",
      "\n"
     ]
    }
   ],
   "source": [
    "print(\"Run VEP at https://www.ensembl.org/Multi/Tools/VEP?db=core \")\n",
    "print(\"with HGVS accession: ENST00000540549.1:c.355_356insATGG\")\n",
    "print(\"Genomic coordinates (build 38):\")\n",
    "VEP_annotation=\"../vep_results/insertion.vcf\"\n",
    "extract_genomic_coordinates(VEP_annotation_file=VEP_annotation)"
   ]
  },
  {
   "cell_type": "markdown",
   "id": "cultural-compromise",
   "metadata": {},
   "source": [
    "## Case 3\n"
   ]
  },
  {
   "cell_type": "code",
   "execution_count": 6,
   "id": "motivated-journalist",
   "metadata": {},
   "outputs": [
    {
     "name": "stdout",
     "output_type": "stream",
     "text": [
      "Cosmic Deletion: ARID1B_ENST00000275248 c.1_6696del6696 \n",
      "_____________\n",
      "This mutation has been found using both DNA microarray and sequencing based analysis of pancreatic cancer genomes according to the study that reported it: \n",
      "https://cancer.sanger.ac.uk/cosmic/study/overview?paper_id=45519\n",
      "Therefore if sequencing was performed the breakpoints are known precisely and I do not need to use (?) \n",
      "in the HGVS definition. \n",
      "I would therefore use the following HGVS standard for whole gene deletion:\n",
      "NC_000023.11:g.(31060227_31100351)_(33274278_33417151)del (microarray example with its probe locations)\n",
      "    \n",
      "The HGVS whole gene deletion for this gene:\n",
      "ENST00000275248.4:g.(1)_(6696)del\n"
     ]
    }
   ],
   "source": [
    "print(\"Cosmic Deletion: ARID1B_ENST00000275248 c.1_6696del6696 \")\n",
    "print(\"_____________\")\n",
    "my_text=\"\"\"This mutation has been found using both DNA microarray and sequencing based analysis of pancreatic cancer genomes according to the study that reported it: \n",
    "https://cancer.sanger.ac.uk/cosmic/study/overview?paper_id=45519\n",
    "Therefore if sequencing was performed the breakpoints are known precisely and I do not need to use (?) \n",
    "in the HGVS definition. \n",
    "I would therefore use the following HGVS standard for whole gene deletion:\n",
    "NC_000023.11:g.(31060227_31100351)_(33274278_33417151)del (microarray example with its probe locations)\n",
    "    \"\"\"\n",
    "\n",
    "print(my_text)\n",
    "print(\"The HGVS whole gene deletion for this gene:\")\n",
    "print(\"ENST00000275248.4:g.(1)_(6696)del\")"
   ]
  },
  {
   "cell_type": "code",
   "execution_count": null,
   "id": "parallel-recipient",
   "metadata": {},
   "outputs": [],
   "source": []
  }
 ],
 "metadata": {
  "kernelspec": {
   "display_name": "Python 3",
   "language": "python",
   "name": "python3"
  },
  "language_info": {
   "codemirror_mode": {
    "name": "ipython",
    "version": 3
   },
   "file_extension": ".py",
   "mimetype": "text/x-python",
   "name": "python",
   "nbconvert_exporter": "python",
   "pygments_lexer": "ipython3",
   "version": "3.9.1"
  }
 },
 "nbformat": 4,
 "nbformat_minor": 5
}
